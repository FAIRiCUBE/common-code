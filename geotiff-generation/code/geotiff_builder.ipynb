{
 "cells": [
  {
   "cell_type": "markdown",
   "id": "1f582658",
   "metadata": {},
   "source": [
    "# Create GEOTIFF I/O template in python - GeoTiff I/O python code FAIRiTASK "
   ]
  },
  {
   "cell_type": "code",
   "execution_count": 1,
   "id": "0a32c4f6",
   "metadata": {},
   "outputs": [],
   "source": [
    "import numpy as np\n",
    "import rasterio as rio"
   ]
  },
  {
   "cell_type": "markdown",
   "id": "616fdbdb",
   "metadata": {},
   "source": [
    "### Building a parametric function for creating GeoTIFF and defining metadata"
   ]
  },
  {
   "cell_type": "code",
   "execution_count": 2,
   "id": "41861fba",
   "metadata": {},
   "outputs": [],
   "source": [
    "# output_path -> disk path where GeoTIFF will be saved\n",
    "# data_array -> NumPy array\n",
    "# crs_input -> CRS\n",
    "# data_type -> Byte or Float32\n",
    "# compression_method -> compression method. Typically, no compression, DEFLATE or LZW can be used for lossless, or JPEG for lossy.\n",
    "# block_x_size -> x dimension of block size (must be multiples of 16)\n",
    "# block_y_size -> y dimension of block size (must be multiples of 16)\n",
    "# pm -> photometric\n",
    "\n",
    "def geotiff_builder(output_path, data_array, crs_input, data_type = \"Byte\", compression_method = \"LZW\", block_x_size = 64, block_y_size = 64, pm = 'RGB'):\n",
    "    # checking if block_x_size and block_y_size are multiples of 16\n",
    "    if not block_x_size%16 == 0 or not block_y_size%16==0:\n",
    "        exit()\n",
    "    \n",
    "    # used for data type\n",
    "    arr = []\n",
    "    # default value for tiled field\n",
    "    tile = True\n",
    "    # default value for photometric field\n",
    "    p = pm\n",
    "    \n",
    "    # data type transformation\n",
    "    if data_type == \"Float32\":\n",
    "        arr = np.float32(data_array)\n",
    "    else:\n",
    "        arr = np.byte(data_array)\n",
    "    \n",
    "    # single band\n",
    "    if arr.shape[0] == 1:\n",
    "        tile = False\n",
    "        p = 'Gray'\n",
    "    \n",
    "    # geotiff building\n",
    "    with rio.open(\n",
    "        output_path,\n",
    "        'w',\n",
    "        driver = 'GTiff',\n",
    "        height = arr.shape[1],\n",
    "        width = arr.shape[2],\n",
    "        count = arr.shape[0],\n",
    "        dtype = arr.dtype,\n",
    "        crs = rio.CRS.from_string(crs_input),\n",
    "        photometric = p,\n",
    "        compress = compression_method,\n",
    "        blockxsize = block_x_size,\n",
    "        blockysize = block_y_size,\n",
    "        tiled = tile\n",
    "    ) as dst:\n",
    "        dst.write(arr)\n",
    "    dst.close()"
   ]
  },
  {
   "cell_type": "markdown",
   "id": "d3e8bb56",
   "metadata": {},
   "source": [
    "### Building a NumPy array with random values"
   ]
  },
  {
   "cell_type": "code",
   "execution_count": 3,
   "id": "ca1c736f",
   "metadata": {},
   "outputs": [
    {
     "data": {
      "text/plain": [
       "array([[[192,   5, 193, ..., 226,  79, 176],\n",
       "        [238,  62,  47, ..., 250, 155, 177],\n",
       "        [216, 136,  51, ..., 212, 184, 113],\n",
       "        ...,\n",
       "        [145, 242, 129, ...,  83, 253, 246],\n",
       "        [ 39,  62,  70, ...,  99, 225, 157],\n",
       "        [225, 245, 185, ..., 244, 238, 115]],\n",
       "\n",
       "       [[229, 126,  25, ..., 148,  86, 173],\n",
       "        [ 79, 142, 162, ...,  51, 168, 182],\n",
       "        [164, 166, 157, ...,  97, 185, 153],\n",
       "        ...,\n",
       "        [146, 123, 103, ..., 147, 201, 169],\n",
       "        [ 14,   1,   8, ...,  16, 229,  49],\n",
       "        [ 87, 249,  69, ...,  90,  13,  17]],\n",
       "\n",
       "       [[ 61,  81,  82, ...,  70, 102, 164],\n",
       "        [137, 219,  67, ...,  55, 234,  30],\n",
       "        [196, 186, 189, ...,  10, 212,   5],\n",
       "        ...,\n",
       "        [ 37,  20,  12, ..., 214, 185, 234],\n",
       "        [  9, 130,   1, ...,  24,  75,  23],\n",
       "        [ 39, 162, 160, ...,  78, 222, 130]]], dtype=uint8)"
      ]
     },
     "execution_count": 3,
     "metadata": {},
     "output_type": "execute_result"
    }
   ],
   "source": [
    "random_array = np.random.randint(255, size=(3, 10000, 10000),  dtype=\"uint8\")\n",
    "random_array"
   ]
  },
  {
   "cell_type": "code",
   "execution_count": 4,
   "id": "d22d246f",
   "metadata": {},
   "outputs": [
    {
     "name": "stdout",
     "output_type": "stream",
     "text": [
      "<class 'numpy.ndarray'>\n",
      "(3, 10000, 10000)\n"
     ]
    }
   ],
   "source": [
    "print(type(random_array))\n",
    "print(random_array.shape)"
   ]
  },
  {
   "cell_type": "markdown",
   "id": "c2c41340",
   "metadata": {},
   "source": [
    "### GeoTIFF building for random values array"
   ]
  },
  {
   "cell_type": "code",
   "execution_count": 6,
   "id": "38cfb646",
   "metadata": {},
   "outputs": [],
   "source": [
    "random_path = r\"C:/Users/......./random_exportfile.tif\"\n",
    "crs = \"EPSG:4326\"\n",
    "\n",
    "geotiff_builder(random_path, random_array, crs)"
   ]
  },
  {
   "cell_type": "markdown",
   "id": "97f7962b",
   "metadata": {},
   "source": [
    "### Check using data from an existing GeoTIFF file - HYP_LR"
   ]
  },
  {
   "cell_type": "code",
   "execution_count": 7,
   "id": "3e8c5df1",
   "metadata": {},
   "outputs": [],
   "source": [
    "input_file = \"C:/Users/......./HYP_LR/HYP_LR.tif\"\n",
    "\n",
    "# open raster dataset\n",
    "with rio.open(input_file) as src:\n",
    "    # read as numpy array\n",
    "    tiff_data = src.read()"
   ]
  },
  {
   "cell_type": "code",
   "execution_count": 8,
   "id": "bfaa5a9b",
   "metadata": {},
   "outputs": [
    {
     "data": {
      "text/plain": [
       "array([[[255, 255, 255, ..., 255, 255, 255],\n",
       "        [255, 255, 255, ..., 255, 255, 255],\n",
       "        [255, 255, 255, ..., 255, 255, 255],\n",
       "        ...,\n",
       "        [235, 235, 235, ..., 235, 235, 235],\n",
       "        [235, 235, 235, ..., 235, 235, 235],\n",
       "        [235, 235, 235, ..., 234, 234, 234]],\n",
       "\n",
       "       [[255, 255, 255, ..., 255, 255, 255],\n",
       "        [255, 255, 255, ..., 255, 255, 255],\n",
       "        [255, 255, 255, ..., 255, 255, 255],\n",
       "        ...,\n",
       "        [238, 238, 238, ..., 238, 238, 238],\n",
       "        [238, 238, 238, ..., 238, 238, 238],\n",
       "        [238, 238, 238, ..., 238, 238, 238]],\n",
       "\n",
       "       [[255, 255, 255, ..., 255, 255, 255],\n",
       "        [255, 255, 255, ..., 255, 255, 255],\n",
       "        [255, 255, 255, ..., 255, 255, 255],\n",
       "        ...,\n",
       "        [251, 251, 251, ..., 251, 251, 251],\n",
       "        [251, 251, 251, ..., 251, 251, 251],\n",
       "        [251, 251, 251, ..., 253, 253, 253]]], dtype=uint8)"
      ]
     },
     "execution_count": 8,
     "metadata": {},
     "output_type": "execute_result"
    }
   ],
   "source": [
    "tiff_data"
   ]
  },
  {
   "cell_type": "code",
   "execution_count": 9,
   "id": "cee7847a",
   "metadata": {},
   "outputs": [
    {
     "data": {
      "text/plain": [
       "(3, 8100, 16200)"
      ]
     },
     "execution_count": 9,
     "metadata": {},
     "output_type": "execute_result"
    }
   ],
   "source": [
    "tiff_data.shape"
   ]
  },
  {
   "cell_type": "markdown",
   "id": "c2fd74df",
   "metadata": {},
   "source": [
    "### GeoTIFF building from HYP_LR data"
   ]
  },
  {
   "cell_type": "code",
   "execution_count": 10,
   "id": "fb02849b",
   "metadata": {},
   "outputs": [],
   "source": [
    "HYP_LR_path = r\"C:/Users/........./HYP_LR_exportfile.tif\"\n",
    "crs = \"EPSG:4326\"\n",
    "\n",
    "geotiff_builder(HYP_LR_path, tiff_data, crs, data_type=\"Byte\")"
   ]
  },
  {
   "cell_type": "markdown",
   "id": "21db506a",
   "metadata": {},
   "source": [
    "### Check using data from an existing single-band GeoTIFF file - CLMS"
   ]
  },
  {
   "cell_type": "code",
   "execution_count": 11,
   "id": "9e3f34ab",
   "metadata": {},
   "outputs": [],
   "source": [
    "single_band_input = \"C:/Users/......./CLMS/italy/IBU_2018_010m_E50N19_03035_v010.tif\"\n",
    "\n",
    "# open raster dataset\n",
    "with rio.open(single_band_input) as src:\n",
    "    # read as numpy array\n",
    "    single_band_data = src.read()"
   ]
  },
  {
   "cell_type": "code",
   "execution_count": 12,
   "id": "6c25d772",
   "metadata": {},
   "outputs": [
    {
     "data": {
      "text/plain": [
       "(1, 10000, 10000)"
      ]
     },
     "execution_count": 12,
     "metadata": {},
     "output_type": "execute_result"
    }
   ],
   "source": [
    "single_band_data.shape"
   ]
  },
  {
   "cell_type": "code",
   "execution_count": 13,
   "id": "b9f3d1ee",
   "metadata": {},
   "outputs": [
    {
     "data": {
      "text/plain": [
       "array([[[255, 255, 255, ..., 255, 255, 255],\n",
       "        [255, 255, 255, ..., 255, 255, 255],\n",
       "        [255, 255, 255, ..., 255, 255, 255],\n",
       "        ...,\n",
       "        [255, 255, 255, ..., 255, 255, 255],\n",
       "        [255, 255, 255, ..., 255, 255, 255],\n",
       "        [255, 255, 255, ..., 255, 255, 255]]], dtype=uint8)"
      ]
     },
     "execution_count": 13,
     "metadata": {},
     "output_type": "execute_result"
    }
   ],
   "source": [
    "single_band_data"
   ]
  },
  {
   "cell_type": "markdown",
   "id": "c0943c36",
   "metadata": {},
   "source": [
    "### GeoTIFF building from CLMS data"
   ]
  },
  {
   "cell_type": "code",
   "execution_count": 14,
   "id": "3f085a49",
   "metadata": {},
   "outputs": [],
   "source": [
    "CLMS_out = r\"C:/Users/......./CLMS_exportfile.tif\"\n",
    "crs = \"EPSG:3035\"\n",
    "\n",
    "geotiff_builder(CLMS_out, single_band_data, crs)"
   ]
  }
 ],
 "metadata": {
  "kernelspec": {
   "display_name": "Python 3 (ipykernel)",
   "language": "python",
   "name": "python3"
  },
  "language_info": {
   "codemirror_mode": {
    "name": "ipython",
    "version": 3
   },
   "file_extension": ".py",
   "mimetype": "text/x-python",
   "name": "python",
   "nbconvert_exporter": "python",
   "pygments_lexer": "ipython3",
   "version": "3.9.16"
  }
 },
 "nbformat": 4,
 "nbformat_minor": 5
}
