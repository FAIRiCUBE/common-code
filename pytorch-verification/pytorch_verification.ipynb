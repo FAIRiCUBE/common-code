{
 "cells": [
  {
   "cell_type": "markdown",
   "source": [
    "# PyTorch Verification\n",
    "\n",
    "A basic notebook to verify that PyTorch is available and test if it can access CUDA (NVIDIA GPU) or not."
   ],
   "metadata": {
    "collapsed": false
   }
  },
  {
   "cell_type": "markdown",
   "source": [
    "### Verify installation by creating a random pytorch tensor\n",
    "\n",
    "Running the cell below should create output similar to this (the random numbers will vary of course):\n",
    "\n",
    "`tensor([[0.3380, 0.3845, 0.3217],\n",
    "        [0.8337, 0.9050, 0.2650],\n",
    "        [0.2979, 0.7141, 0.9069],\n",
    "        [0.1449, 0.1132, 0.1375],\n",
    "        [0.4675, 0.3947, 0.1426]])`"
   ],
   "metadata": {
    "collapsed": false
   }
  },
  {
   "cell_type": "code",
   "execution_count": null,
   "outputs": [],
   "source": [
    "import torch\n",
    "x = torch.rand(5, 3)\n",
    "print(x)"
   ],
   "metadata": {
    "collapsed": false
   }
  },
  {
   "cell_type": "markdown",
   "source": [
    "### Verify GPU access\n",
    "The following cell checks for CUDA device access (cuda is the driver software for NVIDIA GPUs). When available it will list some GPU related info, when not it will simply print that the CPU will be used as device (for the machine learning)."
   ],
   "metadata": {
    "collapsed": false
   }
  },
  {
   "cell_type": "code",
   "execution_count": null,
   "outputs": [],
   "source": [
    "# setting device on GPU if available, else CPU\n",
    "device = torch.device('cuda' if torch.cuda.is_available() else 'cpu')\n",
    "print('Using device:', device)\n",
    "print()\n",
    "\n",
    "#Additional Info when using cuda\n",
    "if device.type == 'cuda':\n",
    "    print(torch.cuda.get_device_name(0))\n",
    "    print('Memory Usage:')\n",
    "    print('Allocated:', round(torch.cuda.memory_allocated(0)/1024**3,1), 'GB')\n",
    "    print('Cached:   ', round(torch.cuda.memory_cached(0)/1024**3,1), 'GB')"
   ],
   "metadata": {
    "collapsed": false
   }
  }
 ],
 "metadata": {
  "kernelspec": {
   "display_name": "Python 3",
   "language": "python",
   "name": "python3"
  },
  "language_info": {
   "codemirror_mode": {
    "name": "ipython",
    "version": 2
   },
   "file_extension": ".py",
   "mimetype": "text/x-python",
   "name": "python",
   "nbconvert_exporter": "python",
   "pygments_lexer": "ipython2",
   "version": "2.7.6"
  }
 },
 "nbformat": 4,
 "nbformat_minor": 0
}
