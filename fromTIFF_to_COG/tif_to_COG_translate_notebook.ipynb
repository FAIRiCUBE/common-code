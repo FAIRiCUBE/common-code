{
 "cells": [
  {
   "cell_type": "code",
   "execution_count": 1,
   "id": "18b49033",
   "metadata": {},
   "outputs": [],
   "source": [
    "# from GeoTIFF to COG\n",
    "\n",
    "# input_file is the file (including path) .tif to be transformed e.g. \"C:/Users/name/folder/input_file.tif\".\n",
    "# output_file is the file (including path) .tif transformed e.g. \"C:/Users/name/folder/output_file.tif\".\n",
    "# Compression method. Typically, no compression, DEFLATE or LZW can be used for lossless, or JPEG for lossy. (Note that DEFLATE while more efficient than LZW can cause compatibility issues with some software packages). default=LZW\n",
    "# include_internal_overivews default=True\n",
    "\n",
    "def tif_to_COG_translate(input_file, output_file, include_internal_overivews = True, compress=\"LZW\"):\n",
    "    import os\n",
    "    if include_internal_overivews:\n",
    "        cmd = 'gdaladdo -r average \"' + str(input_file) + '\" 2 4 8 16'\n",
    "        out = os.popen(cmd).read()\n",
    "        print(out)\n",
    "    cmd = 'gdal_translate \"' + str(input_file) + '\" \"' + str(output_file) + '\" -co TILED=YES -co COPY_SRC_OVERVIEWS=YES -co COMPRESS=' + str(compress)\n",
    "    out = os.popen(cmd).read()\n",
    "    print(out)\n",
    "    cmd = 'gdalinfo \"' + str(output_file) + '\"' \n",
    "    out = os.popen(cmd).read()\n",
    "    print(out)"
   ]
  },
  {
   "cell_type": "code",
   "execution_count": 2,
   "id": "31c03bbd",
   "metadata": {},
   "outputs": [],
   "source": [
    "input_file = \"example/path/..../input_file.tif\"\n",
    "output_file = \"example/path/..../output_file.tif\"\n",
    "tif_to_COG_translate(input_file, output_file)"
   ]
  }
 ],
 "metadata": {
  "kernelspec": {
   "display_name": "Python 3 (ipykernel)",
   "language": "python",
   "name": "python3"
  },
  "language_info": {
   "codemirror_mode": {
    "name": "ipython",
    "version": 3
   },
   "file_extension": ".py",
   "mimetype": "text/x-python",
   "name": "python",
   "nbconvert_exporter": "python",
   "pygments_lexer": "ipython3",
   "version": "3.9.16"
  }
 },
 "nbformat": 4,
 "nbformat_minor": 5
}
