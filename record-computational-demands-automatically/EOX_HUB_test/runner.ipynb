{
 "cells": [
  {
   "cell_type": "markdown",
   "id": "81f11684-da2a-44a9-9140-8d9b09f5273f",
   "metadata": {},
   "source": [
    "### OS info"
   ]
  },
  {
   "cell_type": "code",
   "execution_count": 1,
   "id": "34095b5b-be34-4d3b-ae07-940d0afc528f",
   "metadata": {
    "tags": []
   },
   "outputs": [
    {
     "name": "stdout",
     "output_type": "stream",
     "text": [
      "NAME=\"Ubuntu\"\n",
      "VERSION=\"20.04.6 LTS (Focal Fossa)\"\n",
      "ID=ubuntu\n",
      "ID_LIKE=debian\n",
      "PRETTY_NAME=\"Ubuntu 20.04.6 LTS\"\n",
      "VERSION_ID=\"20.04\"\n",
      "HOME_URL=\"https://www.ubuntu.com/\"\n",
      "SUPPORT_URL=\"https://help.ubuntu.com/\"\n",
      "BUG_REPORT_URL=\"https://bugs.launchpad.net/ubuntu/\"\n",
      "PRIVACY_POLICY_URL=\"https://www.ubuntu.com/legal/terms-and-policies/privacy-policy\"\n",
      "VERSION_CODENAME=focal\n",
      "UBUNTU_CODENAME=focal\n"
     ]
    }
   ],
   "source": [
    "! cat /etc/os-release"
   ]
  },
  {
   "cell_type": "markdown",
   "id": "8f05d309-5ddc-41ee-bb25-1f9d94d53fdc",
   "metadata": {},
   "source": [
    "### TensorFlow settings"
   ]
  },
  {
   "cell_type": "code",
   "execution_count": 2,
   "id": "80792a54-5219-453f-bf54-3f21c0bf542d",
   "metadata": {
    "tags": []
   },
   "outputs": [],
   "source": [
    "import os\n",
    "os.environ['TF_CPP_MIN_LOG_LEVEL'] = '3'"
   ]
  },
  {
   "cell_type": "markdown",
   "id": "89554c46-f5da-424f-b4f4-7c1a56dfe4e6",
   "metadata": {},
   "source": [
    "### Run"
   ]
  },
  {
   "cell_type": "code",
   "execution_count": 3,
   "id": "ee091afc-a4ba-4e59-a0c8-d6ae540cab96",
   "metadata": {
    "tags": []
   },
   "outputs": [
    {
     "name": "stdout",
     "output_type": "stream",
     "text": [
      "Train set shape =  (50000, 32, 32, 3)\n",
      "Labels =  10\n",
      "\n",
      "\n",
      "Epoch 1/20\n",
      "\u001b[1m98/98\u001b[0m \u001b[32m━━━━━━━━━━━━━━━━━━━━\u001b[0m\u001b[37m\u001b[0m \u001b[1m24s\u001b[0m 214ms/step - accuracy: 0.2670 - loss: 1.9752\n",
      "Epoch 2/20\n",
      "\u001b[1m98/98\u001b[0m \u001b[32m━━━━━━━━━━━━━━━━━━━━\u001b[0m\u001b[37m\u001b[0m \u001b[1m21s\u001b[0m 214ms/step - accuracy: 0.4798 - loss: 1.4250\n",
      "Epoch 3/20\n",
      "\u001b[1m98/98\u001b[0m \u001b[32m━━━━━━━━━━━━━━━━━━━━\u001b[0m\u001b[37m\u001b[0m \u001b[1m21s\u001b[0m 214ms/step - accuracy: 0.5588 - loss: 1.2292\n",
      "Epoch 4/20\n",
      "\u001b[1m98/98\u001b[0m \u001b[32m━━━━━━━━━━━━━━━━━━━━\u001b[0m\u001b[37m\u001b[0m \u001b[1m21s\u001b[0m 214ms/step - accuracy: 0.6127 - loss: 1.0960\n",
      "Epoch 5/20\n",
      "\u001b[1m98/98\u001b[0m \u001b[32m━━━━━━━━━━━━━━━━━━━━\u001b[0m\u001b[37m\u001b[0m \u001b[1m21s\u001b[0m 214ms/step - accuracy: 0.6492 - loss: 0.9933\n",
      "Epoch 6/20\n",
      "\u001b[1m98/98\u001b[0m \u001b[32m━━━━━━━━━━━━━━━━━━━━\u001b[0m\u001b[37m\u001b[0m \u001b[1m21s\u001b[0m 214ms/step - accuracy: 0.6843 - loss: 0.8982\n",
      "Epoch 7/20\n",
      "\u001b[1m98/98\u001b[0m \u001b[32m━━━━━━━━━━━━━━━━━━━━\u001b[0m\u001b[37m\u001b[0m \u001b[1m21s\u001b[0m 216ms/step - accuracy: 0.7162 - loss: 0.8111\n",
      "Epoch 8/20\n",
      "\u001b[1m98/98\u001b[0m \u001b[32m━━━━━━━━━━━━━━━━━━━━\u001b[0m\u001b[37m\u001b[0m \u001b[1m21s\u001b[0m 214ms/step - accuracy: 0.7415 - loss: 0.7457\n",
      "Epoch 9/20\n",
      "\u001b[1m98/98\u001b[0m \u001b[32m━━━━━━━━━━━━━━━━━━━━\u001b[0m\u001b[37m\u001b[0m \u001b[1m21s\u001b[0m 214ms/step - accuracy: 0.7628 - loss: 0.6888\n",
      "Epoch 10/20\n",
      "\u001b[1m98/98\u001b[0m \u001b[32m━━━━━━━━━━━━━━━━━━━━\u001b[0m\u001b[37m\u001b[0m \u001b[1m21s\u001b[0m 215ms/step - accuracy: 0.7773 - loss: 0.6390\n",
      "Epoch 11/20\n",
      "\u001b[1m98/98\u001b[0m \u001b[32m━━━━━━━━━━━━━━━━━━━━\u001b[0m\u001b[37m\u001b[0m \u001b[1m21s\u001b[0m 215ms/step - accuracy: 0.8023 - loss: 0.5756\n",
      "Epoch 12/20\n",
      "\u001b[1m98/98\u001b[0m \u001b[32m━━━━━━━━━━━━━━━━━━━━\u001b[0m\u001b[37m\u001b[0m \u001b[1m21s\u001b[0m 214ms/step - accuracy: 0.8179 - loss: 0.5246\n",
      "Epoch 13/20\n",
      "\u001b[1m98/98\u001b[0m \u001b[32m━━━━━━━━━━━━━━━━━━━━\u001b[0m\u001b[37m\u001b[0m \u001b[1m21s\u001b[0m 215ms/step - accuracy: 0.8442 - loss: 0.4632\n",
      "Epoch 14/20\n",
      "\u001b[1m98/98\u001b[0m \u001b[32m━━━━━━━━━━━━━━━━━━━━\u001b[0m\u001b[37m\u001b[0m \u001b[1m21s\u001b[0m 215ms/step - accuracy: 0.8586 - loss: 0.4090\n",
      "Epoch 15/20\n",
      "\u001b[1m98/98\u001b[0m \u001b[32m━━━━━━━━━━━━━━━━━━━━\u001b[0m\u001b[37m\u001b[0m \u001b[1m21s\u001b[0m 214ms/step - accuracy: 0.8766 - loss: 0.3637\n",
      "Epoch 16/20\n",
      "\u001b[1m98/98\u001b[0m \u001b[32m━━━━━━━━━━━━━━━━━━━━\u001b[0m\u001b[37m\u001b[0m \u001b[1m21s\u001b[0m 214ms/step - accuracy: 0.8903 - loss: 0.3175\n",
      "Epoch 17/20\n",
      "\u001b[1m98/98\u001b[0m \u001b[32m━━━━━━━━━━━━━━━━━━━━\u001b[0m\u001b[37m\u001b[0m \u001b[1m21s\u001b[0m 214ms/step - accuracy: 0.9101 - loss: 0.2661\n",
      "Epoch 18/20\n",
      "\u001b[1m98/98\u001b[0m \u001b[32m━━━━━━━━━━━━━━━━━━━━\u001b[0m\u001b[37m\u001b[0m \u001b[1m21s\u001b[0m 214ms/step - accuracy: 0.9255 - loss: 0.2297\n",
      "Epoch 19/20\n",
      "\u001b[1m98/98\u001b[0m \u001b[32m━━━━━━━━━━━━━━━━━━━━\u001b[0m\u001b[37m\u001b[0m \u001b[1m21s\u001b[0m 213ms/step - accuracy: 0.9370 - loss: 0.1911\n",
      "Epoch 20/20\n",
      "\u001b[1m98/98\u001b[0m \u001b[32m━━━━━━━━━━━━━━━━━━━━\u001b[0m\u001b[37m\u001b[0m \u001b[1m21s\u001b[0m 214ms/step - accuracy: 0.9451 - loss: 0.1689\n",
      "\u001b[1m313/313\u001b[0m \u001b[32m━━━━━━━━━━━━━━━━━━━━\u001b[0m\u001b[37m\u001b[0m \u001b[1m2s\u001b[0m 5ms/step - accuracy: 0.7356 - loss: 1.0798\n",
      "\n",
      "\n",
      "Test accuracy: 0.7264000177383423\n",
      "                                    Measure                                              Value\n",
      "0                 Data size in grid points                                       50000x32x32x3\n",
      "1   Largest allocated array in grid points                                  [50000, 32, 32, 3]\n",
      "2                            Data size (MB)                                               0.07\n",
      "3                            Data read (MB)                                               0.12\n",
      "4                         Data written (MB)                                               2.24\n",
      "5                Main memory available (MB)                                           31401.47\n",
      "6                 Main memory consumed (MB)                                            2581.38\n",
      "7      Sum of allocated variable sizes (MB)                                            1406.26\n",
      "8                    Description of CPU/GPU  Machine type: x86_64\\nProcessor type: x86_64\\n...\n",
      "9                             Wall time (s)                                             428.51\n",
      "10                      Energy consumed (W)                                               6.39\n",
      "11              CO₂-equivalents [CO₂eq] (g)                                               2.46\n",
      "12                     Network traffic (MB)                                               22.8\n",
      "13                     Programming language                                             Python\n",
      "14                      Essential libraries                      time\\nos\\ntensorflow\\nnumpy\\n\n"
     ]
    }
   ],
   "source": [
    "! python3 main.py"
   ]
  }
 ],
 "metadata": {
  "kernelspec": {
   "display_name": "fairicube-edc-2022.10-14",
   "language": "python",
   "name": "conda-env-fairicube-edc-2022.10-14-py"
  },
  "language_info": {
   "codemirror_mode": {
    "name": "ipython",
    "version": 3
   },
   "file_extension": ".py",
   "mimetype": "text/x-python",
   "name": "python",
   "nbconvert_exporter": "python",
   "pygments_lexer": "ipython3",
   "version": "3.9.15"
  }
 },
 "nbformat": 4,
 "nbformat_minor": 5
}
